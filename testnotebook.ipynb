{
 "cells": [
  {
   "cell_type": "code",
   "execution_count": null,
   "metadata": {
    "collapsed": true
   },
   "outputs": [],
   "source": [
    "print(\"Hello world\")"
   ]
  },
  {
   "cell_type": "code",
   "execution_count": 1,
   "outputs": [
    {
     "name": "stdout",
     "output_type": "stream",
     "text": [
      "test\n"
     ]
    }
   ],
   "source": [
    "print(\"test\")"
   ],
   "metadata": {
    "collapsed": false,
    "pycharm": {
     "name": "#%%\n"
    }
   }
  },
  {
   "cell_type": "markdown",
   "source": [
    "Comments"
   ],
   "metadata": {
    "collapsed": false
   }
  },
  {
   "cell_type": "code",
   "execution_count": 2,
   "outputs": [
    {
     "data": {
      "text/plain": "        created        date       subreddit       id  \\\n0  1.598958e+09  2020-09-01  wallstreetbets  g3kntnm   \n1  1.598955e+09  2020-09-01  wallstreetbets  g3kkum6   \n2  1.598965e+09  2020-09-01  wallstreetbets  g3kz3n4   \n3  1.598961e+09  2020-09-01  wallstreetbets  g3krpvy   \n4  1.598956e+09  2020-09-01  wallstreetbets  g3kltxo   \n\n                                                body  parent_id  score  \n0  My coworker started talking to me about stocks...  t3_ikho51    214  \n1  Team RKT reporting for Launch Attempt #2: 👉🚀📈💎🖐😎👌  t3_ikho51    127  \n2  Today my grandma just told me that there are 2...  t3_ikho51    243  \n3  This guy I went to college with, who well and ...  t3_ikho51    116  \n4  My little brother’s friends just found out abo...  t3_ikho51     90  ",
      "text/html": "<div>\n<style scoped>\n    .dataframe tbody tr th:only-of-type {\n        vertical-align: middle;\n    }\n\n    .dataframe tbody tr th {\n        vertical-align: top;\n    }\n\n    .dataframe thead th {\n        text-align: right;\n    }\n</style>\n<table border=\"1\" class=\"dataframe\">\n  <thead>\n    <tr style=\"text-align: right;\">\n      <th></th>\n      <th>created</th>\n      <th>date</th>\n      <th>subreddit</th>\n      <th>id</th>\n      <th>body</th>\n      <th>parent_id</th>\n      <th>score</th>\n    </tr>\n  </thead>\n  <tbody>\n    <tr>\n      <th>0</th>\n      <td>1.598958e+09</td>\n      <td>2020-09-01</td>\n      <td>wallstreetbets</td>\n      <td>g3kntnm</td>\n      <td>My coworker started talking to me about stocks...</td>\n      <td>t3_ikho51</td>\n      <td>214</td>\n    </tr>\n    <tr>\n      <th>1</th>\n      <td>1.598955e+09</td>\n      <td>2020-09-01</td>\n      <td>wallstreetbets</td>\n      <td>g3kkum6</td>\n      <td>Team RKT reporting for Launch Attempt #2: 👉🚀📈💎🖐😎👌</td>\n      <td>t3_ikho51</td>\n      <td>127</td>\n    </tr>\n    <tr>\n      <th>2</th>\n      <td>1.598965e+09</td>\n      <td>2020-09-01</td>\n      <td>wallstreetbets</td>\n      <td>g3kz3n4</td>\n      <td>Today my grandma just told me that there are 2...</td>\n      <td>t3_ikho51</td>\n      <td>243</td>\n    </tr>\n    <tr>\n      <th>3</th>\n      <td>1.598961e+09</td>\n      <td>2020-09-01</td>\n      <td>wallstreetbets</td>\n      <td>g3krpvy</td>\n      <td>This guy I went to college with, who well and ...</td>\n      <td>t3_ikho51</td>\n      <td>116</td>\n    </tr>\n    <tr>\n      <th>4</th>\n      <td>1.598956e+09</td>\n      <td>2020-09-01</td>\n      <td>wallstreetbets</td>\n      <td>g3kltxo</td>\n      <td>My little brother’s friends just found out abo...</td>\n      <td>t3_ikho51</td>\n      <td>90</td>\n    </tr>\n  </tbody>\n</table>\n</div>"
     },
     "execution_count": 2,
     "metadata": {},
     "output_type": "execute_result"
    }
   ],
   "source": [
    "import pandas as pd\n",
    "\n",
    "df = pd.read_csv(\"data/reddit/Daily Discussion Thread for September 01, 2020.csv\")\n",
    "\n",
    "df.head()"
   ],
   "metadata": {
    "collapsed": false,
    "pycharm": {
     "name": "#%%\n"
    }
   }
  }
 ],
 "metadata": {
  "kernelspec": {
   "display_name": "Python 3",
   "language": "python",
   "name": "python3"
  },
  "language_info": {
   "codemirror_mode": {
    "name": "ipython",
    "version": 2
   },
   "file_extension": ".py",
   "mimetype": "text/x-python",
   "name": "python",
   "nbconvert_exporter": "python",
   "pygments_lexer": "ipython2",
   "version": "2.7.6"
  }
 },
 "nbformat": 4,
 "nbformat_minor": 0
}